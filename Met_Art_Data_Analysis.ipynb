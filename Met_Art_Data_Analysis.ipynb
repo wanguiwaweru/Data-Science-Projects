{
  "nbformat": 4,
  "nbformat_minor": 0,
  "metadata": {
    "colab": {
      "name": "Metropolitan Museum of Art_Data Analysis Visualization.ipynb",
      "provenance": [],
      "authorship_tag": "ABX9TyP9rTUsSw/s97tLdFjI5rg+",
      "include_colab_link": true
    },
    "kernelspec": {
      "name": "python3",
      "display_name": "Python 3"
    }
  },
  "cells": [
    {
      "cell_type": "markdown",
      "metadata": {
        "id": "view-in-github",
        "colab_type": "text"
      },
      "source": [
        "<a href=\"https://colab.research.google.com/github/margaretmz/met-data-analysis/blob/master/Metropolitan_Museum_of_Art_Data_Analysis_Visualization.ipynb\" target=\"_parent\"><img src=\"https://colab.research.google.com/assets/colab-badge.svg\" alt=\"Open In Colab\"/></a>"
      ]
    },
    {
      "cell_type": "markdown",
      "metadata": {
        "id": "s9SU_l_7zT83",
        "colab_type": "text"
      },
      "source": [
        "# The Metropolitan Museum of Art Open Access\n",
        "## Data Analysis and Visualization\n",
        "\n",
        "* Museum website: https://www.artic.edu/collection\n",
        "* Kaggle data: https://www.kaggle.com/metmuseum/the-metropolitan-museum-of-art-open-access\n",
        "* GitHub: https://github.com/metmuseum/openaccess - has the most recent .csv file\n",
        "* Total number of artists: 56,390\n",
        "* Total number of artworks: 448,203\n",
        "* Link to my Medium post [here](https://medium.com/@margaretmz/metropolitan-museum-of-art-data-analysis-visualization-ea2f63c3fa04)"
      ]
    },
    {
      "cell_type": "markdown",
      "metadata": {
        "id": "HGjaxoqhgAm_",
        "colab_type": "text"
      },
      "source": [
        "I analyzed the metadata to answer the following questions:\n",
        "\n",
        "* Artists\n",
        "  * Top 3 nationality?\n",
        "  * Date of birth histogram?\n",
        "  * Top artists with the most artworks?\n",
        "* Artworks\n",
        "  * Which media have the top collection?\n",
        "  * Which classifications have the top collection?\n",
        "  * Which departments have the top collection?\n"
      ]
    },
    {
      "cell_type": "markdown",
      "metadata": {
        "id": "ON8zLVi-xJ0P",
        "colab_type": "toc"
      },
      "source": [
        "Table of Contents\n",
        "\n",
        ">[The Metropolitan Museum of Art Open Access](#scrollTo=s9SU_l_7zT83&uniqifier=1)\n",
        "\n",
        ">>[Data Analysis and Visualization](#scrollTo=s9SU_l_7zT83&uniqifier=1)\n",
        "\n",
        ">>[Imports](#scrollTo=aE-An1Tgz1g6&uniqifier=1)\n",
        "\n",
        ">>[Chart utils](#scrollTo=25mVFRGkXFrC&uniqifier=1)\n",
        "\n",
        ">>[Create dataframe](#scrollTo=4Pj5wJjEWd-h&uniqifier=1)\n",
        "\n",
        ">>[Missing values](#scrollTo=yvX7LcKPxeET&uniqifier=1)\n",
        "\n",
        ">>[Artists](#scrollTo=R7zRtUbDV5uW&uniqifier=1)\n",
        "\n",
        ">>>[Artist nationality](#scrollTo=t9nrXvAMg10l&uniqifier=1)\n",
        "\n",
        ">>>[Artist date of birth](#scrollTo=Zn0QIoGQJIpk&uniqifier=1)\n",
        "\n",
        ">>>[Top 10 artists with the most artworks](#scrollTo=AkHnhzdgGuuy&uniqifier=1)\n",
        "\n",
        ">>[Artworks](#scrollTo=XaHuo0djHTI0&uniqifier=1)\n",
        "\n",
        ">>>[Artworks in the public domain](#scrollTo=iTfSa-ISeI2W&uniqifier=1)\n",
        "\n",
        ">>>[Top artworks media](#scrollTo=gm_6t1APfI5T&uniqifier=1)\n",
        "\n",
        ">>>[Artworks by department](#scrollTo=LmOwYPqpJm07&uniqifier=1)\n",
        "\n",
        ">>>[Top artworks classification](#scrollTo=wRU_oRI4VETs&uniqifier=1)\n",
        "\n",
        ">>>[Artworks by country and culture](#scrollTo=IrFsptywWCJX&uniqifier=1)\n",
        "\n"
      ]
    },
    {
      "cell_type": "markdown",
      "metadata": {
        "id": "aE-An1Tgz1g6",
        "colab_type": "text"
      },
      "source": [
        "## Imports"
      ]
    },
    {
      "cell_type": "code",
      "metadata": {
        "id": "pC7e-ytaBYHf",
        "colab_type": "code",
        "colab": {}
      },
      "source": [
        "import pandas as pd\n",
        "import numpy as np\n",
        "import matplotlib.pyplot as plt\n",
        "import seaborn as sns"
      ],
      "execution_count": 7,
      "outputs": []
    },
    {
      "cell_type": "markdown",
      "metadata": {
        "id": "25mVFRGkXFrC",
        "colab_type": "text"
      },
      "source": [
        "## Chart utils\n",
        "Here are two functions for making pie charts and bar charts."
      ]
    },
    {
      "cell_type": "code",
      "metadata": {
        "id": "e_nGs9snc4X8",
        "colab_type": "code",
        "colab": {}
      },
      "source": [
        "def plot_pie_chart(values, labels, title):\n",
        "  fig1, ax1 = plt.subplots()\n",
        "  ax1.pie(values, labels=labels, autopct='%1.1f%%', shadow=True)\n",
        "  plt.title(title, size=14, pad=15)\n",
        "\n",
        "  plt.show()"
      ],
      "execution_count": 80,
      "outputs": []
    },
    {
      "cell_type": "code",
      "metadata": {
        "id": "N1XXMfW7wqoV",
        "colab_type": "code",
        "colab": {}
      },
      "source": [
        "def plot_bar_chart(df, column, figsize=(10,5), title=None):\n",
        "    counts = df[column].value_counts()[:10]\n",
        "    plt.figure(figsize=figsize)\n",
        "    sns.barplot(counts.values, counts.index)\n",
        "    plt.xlabel('Number of artworks', size=14, labelpad=15)\n",
        "    plt.xticks(rotation=0)\n",
        "    plt.ylabel(column, size=14)\n",
        "    plt.title(title, size=14, pad=15)\n",
        "    plt.show()"
      ],
      "execution_count": 9,
      "outputs": []
    },
    {
      "cell_type": "markdown",
      "metadata": {
        "id": "4Pj5wJjEWd-h",
        "colab_type": "text"
      },
      "source": [
        "## Create dataframe\n",
        "\n",
        "First let's create a dataframe from the `MetObjects.csv` file with Pandas read_csv()."
      ]
    },
    {
      "cell_type": "code",
      "metadata": {
        "id": "vbKS4duKHdy7",
        "colab_type": "code",
        "colab": {
          "base_uri": "https://localhost:8080/",
          "height": 85
        },
        "outputId": "85a3a989-1fbf-4b1f-ed67-13f46b713084"
      },
      "source": [
        "met_art = pd.read_csv('MetObjects.csv')"
      ],
      "execution_count": 11,
      "outputs": [
        {
          "output_type": "stream",
          "text": [
            "/usr/local/lib/python3.6/dist-packages/IPython/core/interactiveshell.py:2718: DtypeWarning:\n",
            "\n",
            "Columns (7,8,9,10,11,18,27,28,29,30,31,32,33,34,35,36,37,39) have mixed types.Specify dtype option on import or set low_memory=False.\n",
            "\n"
          ],
          "name": "stderr"
        }
      ]
    },
    {
      "cell_type": "code",
      "metadata": {
        "id": "77Ub_ZJZbvbJ",
        "colab_type": "code",
        "colab": {
          "base_uri": "https://localhost:8080/",
          "height": 400
        },
        "outputId": "1f169a56-c3af-4f7d-cc11-28f01910dfb4"
      },
      "source": [
        "# Let's take a look at the first 3 rows\n",
        "met_art.head(3)"
      ],
      "execution_count": 16,
      "outputs": [
        {
          "output_type": "execute_result",
          "data": {
            "text/html": [
              "<div>\n",
              "<style scoped>\n",
              "    .dataframe tbody tr th:only-of-type {\n",
              "        vertical-align: middle;\n",
              "    }\n",
              "\n",
              "    .dataframe tbody tr th {\n",
              "        vertical-align: top;\n",
              "    }\n",
              "\n",
              "    .dataframe thead th {\n",
              "        text-align: right;\n",
              "    }\n",
              "</style>\n",
              "<table border=\"1\" class=\"dataframe\">\n",
              "  <thead>\n",
              "    <tr style=\"text-align: right;\">\n",
              "      <th></th>\n",
              "      <th>Object Number</th>\n",
              "      <th>Is Highlight</th>\n",
              "      <th>Is Public Domain</th>\n",
              "      <th>Object ID</th>\n",
              "      <th>Department</th>\n",
              "      <th>Object Name</th>\n",
              "      <th>Title</th>\n",
              "      <th>Culture</th>\n",
              "      <th>Period</th>\n",
              "      <th>Dynasty</th>\n",
              "      <th>Reign</th>\n",
              "      <th>Portfolio</th>\n",
              "      <th>Artist Role</th>\n",
              "      <th>Artist Prefix</th>\n",
              "      <th>Artist Display Name</th>\n",
              "      <th>Artist Display Bio</th>\n",
              "      <th>Artist Suffix</th>\n",
              "      <th>Artist Alpha Sort</th>\n",
              "      <th>Artist Nationality</th>\n",
              "      <th>Artist Begin Date</th>\n",
              "      <th>Artist End Date</th>\n",
              "      <th>Object Date</th>\n",
              "      <th>Object Begin Date</th>\n",
              "      <th>Object End Date</th>\n",
              "      <th>Medium</th>\n",
              "      <th>Dimensions</th>\n",
              "      <th>Credit Line</th>\n",
              "      <th>Geography Type</th>\n",
              "      <th>City</th>\n",
              "      <th>State</th>\n",
              "      <th>County</th>\n",
              "      <th>Country</th>\n",
              "      <th>Region</th>\n",
              "      <th>Subregion</th>\n",
              "      <th>Locale</th>\n",
              "      <th>Locus</th>\n",
              "      <th>Excavation</th>\n",
              "      <th>River</th>\n",
              "      <th>Classification</th>\n",
              "      <th>Rights and Reproduction</th>\n",
              "      <th>Link Resource</th>\n",
              "      <th>Metadata Date</th>\n",
              "      <th>Repository</th>\n",
              "    </tr>\n",
              "  </thead>\n",
              "  <tbody>\n",
              "    <tr>\n",
              "      <th>0</th>\n",
              "      <td>1979.486.1</td>\n",
              "      <td>False</td>\n",
              "      <td>False</td>\n",
              "      <td>1</td>\n",
              "      <td>American Decorative Arts</td>\n",
              "      <td>Coin</td>\n",
              "      <td>One-dollar Liberty Head Coin</td>\n",
              "      <td>NaN</td>\n",
              "      <td>NaN</td>\n",
              "      <td>NaN</td>\n",
              "      <td>NaN</td>\n",
              "      <td>NaN</td>\n",
              "      <td>Maker</td>\n",
              "      <td>NaN</td>\n",
              "      <td>James Barton Longacre</td>\n",
              "      <td>American, Delaware County, Pennsylvania 1794–1...</td>\n",
              "      <td>NaN</td>\n",
              "      <td>Longacre, James Barton</td>\n",
              "      <td>American</td>\n",
              "      <td>1794</td>\n",
              "      <td>1869</td>\n",
              "      <td>1853</td>\n",
              "      <td>1853</td>\n",
              "      <td>1853</td>\n",
              "      <td>Gold</td>\n",
              "      <td>Dimensions unavailable</td>\n",
              "      <td>Gift of Heinz L. Stoppelmann, 1979</td>\n",
              "      <td>NaN</td>\n",
              "      <td>NaN</td>\n",
              "      <td>NaN</td>\n",
              "      <td>NaN</td>\n",
              "      <td>NaN</td>\n",
              "      <td>NaN</td>\n",
              "      <td>NaN</td>\n",
              "      <td>NaN</td>\n",
              "      <td>NaN</td>\n",
              "      <td>NaN</td>\n",
              "      <td>NaN</td>\n",
              "      <td>Metal</td>\n",
              "      <td>NaN</td>\n",
              "      <td>http://www.metmuseum.org/art/collection/search/1</td>\n",
              "      <td>4/3/2017 8:00:08 AM</td>\n",
              "      <td>Metropolitan Museum of Art, New York, NY</td>\n",
              "    </tr>\n",
              "    <tr>\n",
              "      <th>1</th>\n",
              "      <td>1980.264.5</td>\n",
              "      <td>False</td>\n",
              "      <td>False</td>\n",
              "      <td>2</td>\n",
              "      <td>American Decorative Arts</td>\n",
              "      <td>Coin</td>\n",
              "      <td>Ten-dollar Liberty Head Coin</td>\n",
              "      <td>NaN</td>\n",
              "      <td>NaN</td>\n",
              "      <td>NaN</td>\n",
              "      <td>NaN</td>\n",
              "      <td>NaN</td>\n",
              "      <td>Maker</td>\n",
              "      <td>NaN</td>\n",
              "      <td>Christian Gobrecht</td>\n",
              "      <td>1785–1844</td>\n",
              "      <td>NaN</td>\n",
              "      <td>Gobrecht, Christian</td>\n",
              "      <td>NaN</td>\n",
              "      <td>1785</td>\n",
              "      <td>1844</td>\n",
              "      <td>1901</td>\n",
              "      <td>1901</td>\n",
              "      <td>1901</td>\n",
              "      <td>Gold</td>\n",
              "      <td>Dimensions unavailable</td>\n",
              "      <td>Gift of Heinz L. Stoppelmann, 1980</td>\n",
              "      <td>NaN</td>\n",
              "      <td>NaN</td>\n",
              "      <td>NaN</td>\n",
              "      <td>NaN</td>\n",
              "      <td>NaN</td>\n",
              "      <td>NaN</td>\n",
              "      <td>NaN</td>\n",
              "      <td>NaN</td>\n",
              "      <td>NaN</td>\n",
              "      <td>NaN</td>\n",
              "      <td>NaN</td>\n",
              "      <td>Metal</td>\n",
              "      <td>NaN</td>\n",
              "      <td>http://www.metmuseum.org/art/collection/search/2</td>\n",
              "      <td>4/3/2017 8:00:08 AM</td>\n",
              "      <td>Metropolitan Museum of Art, New York, NY</td>\n",
              "    </tr>\n",
              "    <tr>\n",
              "      <th>2</th>\n",
              "      <td>67.265.9</td>\n",
              "      <td>False</td>\n",
              "      <td>False</td>\n",
              "      <td>3</td>\n",
              "      <td>American Decorative Arts</td>\n",
              "      <td>Coin</td>\n",
              "      <td>Two-and-a-Half Dollar Coin</td>\n",
              "      <td>NaN</td>\n",
              "      <td>NaN</td>\n",
              "      <td>NaN</td>\n",
              "      <td>NaN</td>\n",
              "      <td>NaN</td>\n",
              "      <td>NaN</td>\n",
              "      <td>NaN</td>\n",
              "      <td>NaN</td>\n",
              "      <td>NaN</td>\n",
              "      <td>NaN</td>\n",
              "      <td>NaN</td>\n",
              "      <td>NaN</td>\n",
              "      <td>NaN</td>\n",
              "      <td>NaN</td>\n",
              "      <td>1909–27</td>\n",
              "      <td>1909</td>\n",
              "      <td>1927</td>\n",
              "      <td>Gold</td>\n",
              "      <td>Diam. 11/16 in. (1.7 cm)</td>\n",
              "      <td>Gift of C. Ruxton Love, Jr., 1967</td>\n",
              "      <td>NaN</td>\n",
              "      <td>NaN</td>\n",
              "      <td>NaN</td>\n",
              "      <td>NaN</td>\n",
              "      <td>NaN</td>\n",
              "      <td>NaN</td>\n",
              "      <td>NaN</td>\n",
              "      <td>NaN</td>\n",
              "      <td>NaN</td>\n",
              "      <td>NaN</td>\n",
              "      <td>NaN</td>\n",
              "      <td>Metal</td>\n",
              "      <td>NaN</td>\n",
              "      <td>http://www.metmuseum.org/art/collection/search/3</td>\n",
              "      <td>4/3/2017 8:00:08 AM</td>\n",
              "      <td>Metropolitan Museum of Art, New York, NY</td>\n",
              "    </tr>\n",
              "  </tbody>\n",
              "</table>\n",
              "</div>"
            ],
            "text/plain": [
              "  Object Number  ...                                Repository\n",
              "0    1979.486.1  ...  Metropolitan Museum of Art, New York, NY\n",
              "1    1980.264.5  ...  Metropolitan Museum of Art, New York, NY\n",
              "2      67.265.9  ...  Metropolitan Museum of Art, New York, NY\n",
              "\n",
              "[3 rows x 43 columns]"
            ]
          },
          "metadata": {
            "tags": []
          },
          "execution_count": 16
        }
      ]
    },
    {
      "cell_type": "markdown",
      "metadata": {
        "id": "i7gp0FSFEetM",
        "colab_type": "text"
      },
      "source": [
        "There are 448,203 rows and 43 columns"
      ]
    },
    {
      "cell_type": "code",
      "metadata": {
        "id": "cEezyY8ODXGz",
        "colab_type": "code",
        "colab": {
          "base_uri": "https://localhost:8080/",
          "height": 34
        },
        "outputId": "3b3f398c-703c-44e7-e8f8-4d31d02fa639"
      },
      "source": [
        "met_art.shape"
      ],
      "execution_count": 17,
      "outputs": [
        {
          "output_type": "execute_result",
          "data": {
            "text/plain": [
              "(448203, 43)"
            ]
          },
          "metadata": {
            "tags": []
          },
          "execution_count": 17
        }
      ]
    },
    {
      "cell_type": "markdown",
      "metadata": {
        "id": "QOxLzvj2Ejv3",
        "colab_type": "text"
      },
      "source": [
        "With `info()` we see a summary of the dataframe with column names, non-null count and data type. Notice some columns with a lot of nulls."
      ]
    },
    {
      "cell_type": "code",
      "metadata": {
        "id": "VrUE_VagdWj3",
        "colab_type": "code",
        "colab": {
          "base_uri": "https://localhost:8080/",
          "height": 867
        },
        "outputId": "8e663829-f6fc-44db-f0de-626403912499"
      },
      "source": [
        "met_art.info()"
      ],
      "execution_count": null,
      "outputs": [
        {
          "output_type": "stream",
          "text": [
            "<class 'pandas.core.frame.DataFrame'>\n",
            "RangeIndex: 448203 entries, 0 to 448202\n",
            "Data columns (total 43 columns):\n",
            " #   Column                   Non-Null Count   Dtype \n",
            "---  ------                   --------------   ----- \n",
            " 0   Object Number            448203 non-null  object\n",
            " 1   Is Highlight             448203 non-null  bool  \n",
            " 2   Is Public Domain         448203 non-null  bool  \n",
            " 3   Object ID                448203 non-null  int64 \n",
            " 4   Department               448203 non-null  object\n",
            " 5   Object Name              445568 non-null  object\n",
            " 6   Title                    416906 non-null  object\n",
            " 7   Culture                  186518 non-null  object\n",
            " 8   Period                   71882 non-null   object\n",
            " 9   Dynasty                  23018 non-null   object\n",
            " 10  Reign                    10817 non-null   object\n",
            " 11  Portfolio                20370 non-null   object\n",
            " 12  Artist Role              259909 non-null  object\n",
            " 13  Artist Prefix            88928 non-null   object\n",
            " 14  Artist Display Name      261111 non-null  object\n",
            " 15  Artist Display Bio       224064 non-null  object\n",
            " 16  Artist Suffix            10212 non-null   object\n",
            " 17  Artist Alpha Sort        261088 non-null  object\n",
            " 18  Artist Nationality       196132 non-null  object\n",
            " 19  Artist Begin Date        215234 non-null  object\n",
            " 20  Artist End Date          212825 non-null  object\n",
            " 21  Object Date              432609 non-null  object\n",
            " 22  Object Begin Date        448203 non-null  int64 \n",
            " 23  Object End Date          448203 non-null  int64 \n",
            " 24  Medium                   440155 non-null  object\n",
            " 25  Dimensions               385360 non-null  object\n",
            " 26  Credit Line              447533 non-null  object\n",
            " 27  Geography Type           58463 non-null   object\n",
            " 28  City                     30520 non-null   object\n",
            " 29  State                    8360 non-null    object\n",
            " 30  County                   2488 non-null    object\n",
            " 31  Country                  74450 non-null   object\n",
            " 32  Region                   31078 non-null   object\n",
            " 33  Subregion                21716 non-null   object\n",
            " 34  Locale                   15095 non-null   object\n",
            " 35  Locus                    6939 non-null    object\n",
            " 36  Excavation               15519 non-null   object\n",
            " 37  River                    2103 non-null    object\n",
            " 38  Classification           389924 non-null  object\n",
            " 39  Rights and Reproduction  22975 non-null   object\n",
            " 40  Link Resource            448203 non-null  object\n",
            " 41  Metadata Date            448203 non-null  object\n",
            " 42  Repository               448203 non-null  object\n",
            "dtypes: bool(2), int64(3), object(38)\n",
            "memory usage: 141.1+ MB\n"
          ],
          "name": "stdout"
        }
      ]
    },
    {
      "cell_type": "markdown",
      "metadata": {
        "id": "yvX7LcKPxeET",
        "colab_type": "text"
      },
      "source": [
        "## Missing values\n",
        "\n",
        "There are a lot of missing values in many of the columns. We don't neeed to worry about these missing values since we are not using the metadata for ML models training."
      ]
    },
    {
      "cell_type": "markdown",
      "metadata": {
        "id": "YTb3XkN1xpnb",
        "colab_type": "text"
      },
      "source": [
        "There are only 10 columns without missing values"
      ]
    },
    {
      "cell_type": "code",
      "metadata": {
        "id": "fUne6umQbzSB",
        "colab_type": "code",
        "colab": {
          "base_uri": "https://localhost:8080/",
          "height": 34
        },
        "outputId": "4543f9c9-6db0-4a60-9ea7-fb4f7514a715"
      },
      "source": [
        "# Columns without missing values\n",
        "no_nulls = set(met_art.columns[met_art.isnull().mean()==0])\n",
        "# Only 10 columns have no missing values\n",
        "len(no_nulls)"
      ],
      "execution_count": null,
      "outputs": [
        {
          "output_type": "execute_result",
          "data": {
            "text/plain": [
              "10"
            ]
          },
          "metadata": {
            "tags": []
          },
          "execution_count": 98
        }
      ]
    },
    {
      "cell_type": "markdown",
      "metadata": {
        "id": "j1Wg9V5Zx2lY",
        "colab_type": "text"
      },
      "source": [
        "23 out of 42 columns have missing values > 50%"
      ]
    },
    {
      "cell_type": "code",
      "metadata": {
        "id": "pOK3L_iVTVIl",
        "colab_type": "code",
        "colab": {
          "base_uri": "https://localhost:8080/",
          "height": 71
        },
        "outputId": "ab9f30c0-36ba-4b36-8165-70ec1eeb8d14"
      },
      "source": [
        "# A set of colums with more than 50% missing values\n",
        "missing_cols = set(met_art.columns[met_art.isnull().mean() > 0.50])\n",
        "print(len(missing_cols))\n",
        "print(missing_cols)"
      ],
      "execution_count": null,
      "outputs": [
        {
          "output_type": "stream",
          "text": [
            "23\n",
            "{'Geography Type', 'Excavation', 'Artist Begin Date', 'Period', 'Locus', 'Culture', 'City', 'Region', 'Reign', 'Rights and Reproduction', 'Artist Display Bio', 'River', 'County', 'Country', 'Artist Suffix', 'Locale', 'Artist Prefix', 'Subregion', 'Artist End Date', 'State', 'Artist Nationality', 'Portfolio', 'Dynasty'}\n"
          ],
          "name": "stdout"
        }
      ]
    },
    {
      "cell_type": "markdown",
      "metadata": {
        "id": "EwmFnQ5ux3Vi",
        "colab_type": "text"
      },
      "source": [
        "18 out of 42 columns have missing values > 75%"
      ]
    },
    {
      "cell_type": "code",
      "metadata": {
        "id": "9SjGM7P68mdK",
        "colab_type": "code",
        "colab": {
          "base_uri": "https://localhost:8080/",
          "height": 71
        },
        "outputId": "9fa21622-2438-44d6-de40-e079154d3f8b"
      },
      "source": [
        "# A set of colums with more than 75% missing values\n",
        "missing_cols = set(met_art.columns[met_art.isnull().mean() > 0.75])\n",
        "print(len(missing_cols))\n",
        "print(missing_cols)"
      ],
      "execution_count": 28,
      "outputs": [
        {
          "output_type": "stream",
          "text": [
            "18\n",
            "{'City', 'River', 'Country', 'County', 'Portfolio', 'Dynasty', 'Geography Type', 'Rights and Reproduction', 'Artist Prefix', 'Region', 'Locus', 'Reign', 'Locale', 'Subregion', 'Artist Suffix', 'Period', 'State', 'Excavation'}\n"
          ],
          "name": "stdout"
        }
      ]
    },
    {
      "cell_type": "code",
      "metadata": {
        "id": "3O8NDdxFSl4n",
        "colab_type": "code",
        "colab": {
          "base_uri": "https://localhost:8080/",
          "height": 323
        },
        "outputId": "0eeb3eab-915e-455a-f70f-9651ba5a0eb4"
      },
      "source": [
        "# See the list of columns with mostly (>75%) missing values\n",
        "for col in missing_cols:\n",
        "  print(col)"
      ],
      "execution_count": 29,
      "outputs": [
        {
          "output_type": "stream",
          "text": [
            "City\n",
            "River\n",
            "Country\n",
            "County\n",
            "Portfolio\n",
            "Dynasty\n",
            "Geography Type\n",
            "Rights and Reproduction\n",
            "Artist Prefix\n",
            "Region\n",
            "Locus\n",
            "Reign\n",
            "Locale\n",
            "Subregion\n",
            "Artist Suffix\n",
            "Period\n",
            "State\n",
            "Excavation\n"
          ],
          "name": "stdout"
        }
      ]
    },
    {
      "cell_type": "code",
      "metadata": {
        "id": "mRN7e9MZyBjn",
        "colab_type": "code",
        "colab": {
          "base_uri": "https://localhost:8080/",
          "height": 765
        },
        "outputId": "81d6909e-3f97-4aa5-9918-40b463cee74c"
      },
      "source": [
        "# Number of missing values for each column, sorted in descending order\n",
        "met_art.isnull().sum().sort_values(ascending=False)"
      ],
      "execution_count": 30,
      "outputs": [
        {
          "output_type": "execute_result",
          "data": {
            "text/plain": [
              "River                      446100\n",
              "County                     445715\n",
              "Locus                      441264\n",
              "State                      439843\n",
              "Artist Suffix              437991\n",
              "Reign                      437386\n",
              "Locale                     433108\n",
              "Excavation                 432684\n",
              "Portfolio                  427833\n",
              "Subregion                  426487\n",
              "Rights and Reproduction    425228\n",
              "Dynasty                    425185\n",
              "City                       417683\n",
              "Region                     417125\n",
              "Geography Type             389740\n",
              "Period                     376321\n",
              "Country                    373753\n",
              "Artist Prefix              359275\n",
              "Culture                    261685\n",
              "Artist Nationality         252071\n",
              "Artist End Date            235378\n",
              "Artist Begin Date          232969\n",
              "Artist Display Bio         224139\n",
              "Artist Role                188294\n",
              "Artist Alpha Sort          187115\n",
              "Artist Display Name        187092\n",
              "Dimensions                  62843\n",
              "Classification              58279\n",
              "Title                       31297\n",
              "Object Date                 15594\n",
              "Medium                       8048\n",
              "Object Name                  2635\n",
              "Credit Line                   670\n",
              "Department                      0\n",
              "Object ID                       0\n",
              "Is Public Domain                0\n",
              "Is Highlight                    0\n",
              "Repository                      0\n",
              "Metadata Date                   0\n",
              "Object Begin Date               0\n",
              "Object End Date                 0\n",
              "Link Resource                   0\n",
              "Object Number                   0\n",
              "dtype: int64"
            ]
          },
          "metadata": {
            "tags": []
          },
          "execution_count": 30
        }
      ]
    },
    {
      "cell_type": "markdown",
      "metadata": {
        "id": "R7zRtUbDV5uW",
        "colab_type": "text"
      },
      "source": [
        "## Artists"
      ]
    },
    {
      "cell_type": "markdown",
      "metadata": {
        "id": "t9nrXvAMg10l",
        "colab_type": "text"
      },
      "source": [
        "### Artist nationality\n",
        "Over half of the artists (56.3%) are American, followed by French (19.8%) and Italian (13.4%)."
      ]
    },
    {
      "cell_type": "code",
      "metadata": {
        "id": "_pFI9jjHhCAV",
        "colab_type": "code",
        "colab": {
          "base_uri": "https://localhost:8080/",
          "height": 204
        },
        "outputId": "479ea3ea-7230-48ae-9c3a-5d64ffce9210"
      },
      "source": [
        "met_art['Artist Nationality'].value_counts()[:10]"
      ],
      "execution_count": 68,
      "outputs": [
        {
          "output_type": "execute_result",
          "data": {
            "text/plain": [
              "American                63137\n",
              "French                  18675\n",
              "Italian                 12658\n",
              "French|French            9163\n",
              "British                  8508\n",
              "American|American        7441\n",
              "German                   7365\n",
              "Japanese                 6259\n",
              "Italian|Italian          4528\n",
              "French|French|French     4148\n",
              "Name: Artist Nationality, dtype: int64"
            ]
          },
          "metadata": {
            "tags": []
          },
          "execution_count": 68
        }
      ]
    },
    {
      "cell_type": "code",
      "metadata": {
        "id": "8lxoF4_shJ4k",
        "colab_type": "code",
        "colab": {
          "base_uri": "https://localhost:8080/",
          "height": 274
        },
        "outputId": "747a2ac8-4779-4454-f137-896c52824768"
      },
      "source": [
        "values = met_art['Artist Nationality'].value_counts()[:3].values\n",
        "labels = met_art['Artist Nationality'].value_counts()[:3].index\n",
        "\n",
        "plot_pie_chart(values, labels, \"Top 3 Artists Nationality\")"
      ],
      "execution_count": 81,
      "outputs": [
        {
          "output_type": "display_data",
          "data": {
            "image/png": "[encoded data removed]",
            "text/plain": [
              "<Figure size 432x288 with 1 Axes>"
            ]
          },
          "metadata": {
            "tags": []
          }
        }
      ]
    },
    {
      "cell_type": "markdown",
      "metadata": {
        "id": "Zn0QIoGQJIpk",
        "colab_type": "text"
      },
      "source": [
        "### Artist date of birth\n",
        "Here is a histogram of artist date of birth indicates that many artists are born around 1950's. "
      ]
    },
    {
      "cell_type": "code",
      "metadata": {
        "id": "VMG2HJgXbN_P",
        "colab_type": "code",
        "colab": {
          "base_uri": "https://localhost:8080/",
          "height": 281
        },
        "outputId": "2da72f51-d0f3-455f-9d81-7c4625ab9a04"
      },
      "source": [
        "plt.hist(met_art[met_art.Artist!=0]['Artist Begin Date'])\n",
        "plt.title('Number of Artists by Date of Birth')\n",
        "plt.show()"
      ],
      "execution_count": null,
      "outputs": [
        {
          "output_type": "display_data",
          "data": {
            "image/png": "[encoded data removed]",
            "text/plain": [
              "<Figure size 432x288 with 1 Axes>"
            ]
          },
          "metadata": {
            "tags": [],
            "needs_background": "light"
          }
        }
      ]
    },
    {
      "cell_type": "markdown",
      "metadata": {
        "id": "AkHnhzdgGuuy",
        "colab_type": "text"
      },
      "source": [
        "### Top 10 artists with the most artworks"
      ]
    },
    {
      "cell_type": "code",
      "metadata": {
        "id": "c_esRh-ukB7q",
        "colab_type": "code",
        "colab": {
          "base_uri": "https://localhost:8080/",
          "height": 102
        },
        "outputId": "8385320b-0dcd-4427-b2df-d26c4156cb1f"
      },
      "source": [
        "# There are total of 56,390 artists \n",
        "met_art['Artist Display Name'].describe()"
      ],
      "execution_count": 33,
      "outputs": [
        {
          "output_type": "execute_result",
          "data": {
            "text/plain": [
              "count           261111\n",
              "unique           56390\n",
              "top       Walker Evans\n",
              "freq              9659\n",
              "Name: Artist Display Name, dtype: object"
            ]
          },
          "metadata": {
            "tags": []
          },
          "execution_count": 33
        }
      ]
    },
    {
      "cell_type": "markdown",
      "metadata": {
        "id": "YItiOU0TYoY5",
        "colab_type": "text"
      },
      "source": [
        "Among the top 10 artists with the most collections, the artist named **Walker Evans** has the largest artworks at 9,659.\n"
      ]
    },
    {
      "cell_type": "code",
      "metadata": {
        "id": "Ku84Gb41dJKF",
        "colab_type": "code",
        "colab": {
          "base_uri": "https://localhost:8080/",
          "height": 204
        },
        "outputId": "55af53b6-34b8-4294-df17-b9aaaac3104d"
      },
      "source": [
        "met_art['Artist Display Name'].value_counts()[:10]"
      ],
      "execution_count": 34,
      "outputs": [
        {
          "output_type": "execute_result",
          "data": {
            "text/plain": [
              "Walker Evans                 9659\n",
              "Kinney Brothers              4282\n",
              "Allen & Ginter               3184\n",
              "W. Duke, Sons & Co.          3148\n",
              "Goodwin & Company            2747\n",
              "Unknown                      2581\n",
              "Brewster & Co.               2296\n",
              "American Tobacco Company     1993\n",
              "Bowman Gum Company           1992\n",
              "Topps Chewing Gum Company    1232\n",
              "Name: Artist Display Name, dtype: int64"
            ]
          },
          "metadata": {
            "tags": []
          },
          "execution_count": 34
        }
      ]
    },
    {
      "cell_type": "code",
      "metadata": {
        "id": "2ZD8H5wpGY7U",
        "colab_type": "code",
        "colab": {
          "base_uri": "https://localhost:8080/",
          "height": 375
        },
        "outputId": "8ddf11a2-eacf-4673-c5e9-a323d4d61824"
      },
      "source": [
        "plot_bar_chart(met_art, column=\"Artist Display Name\", title='Top 10 Artists with the Most Artworks')"
      ],
      "execution_count": 32,
      "outputs": [
        {
          "output_type": "display_data",
          "data": {
            "image/png": "[encoded data removed]",
            "text/plain": [
              "<Figure size 720x360 with 1 Axes>"
            ]
          },
          "metadata": {
            "tags": [],
            "needs_background": "light"
          }
        }
      ]
    },
    {
      "cell_type": "markdown",
      "metadata": {
        "id": "XaHuo0djHTI0",
        "colab_type": "text"
      },
      "source": [
        "## Artworks"
      ]
    },
    {
      "cell_type": "markdown",
      "metadata": {
        "id": "iTfSa-ISeI2W",
        "colab_type": "text"
      },
      "source": [
        "### Artworks in the public domain\n",
        "\n",
        "Near half of the artworks are in the public domain which means you can use them freely."
      ]
    },
    {
      "cell_type": "code",
      "metadata": {
        "id": "J-oMIPjwUfUK",
        "colab_type": "code",
        "colab": {
          "base_uri": "https://localhost:8080/",
          "height": 68
        },
        "outputId": "49d4e0f5-11d5-4a3a-bbb2-a38fbc9cc0f2"
      },
      "source": [
        "# Almost half of the artworks are in the public domain \n",
        "met_art['Is Public Domain'].value_counts()"
      ],
      "execution_count": null,
      "outputs": [
        {
          "output_type": "execute_result",
          "data": {
            "text/plain": [
              "False    246004\n",
              "True     202199\n",
              "Name: Is Public Domain, dtype: int64"
            ]
          },
          "metadata": {
            "tags": []
          },
          "execution_count": 58
        }
      ]
    },
    {
      "cell_type": "code",
      "metadata": {
        "id": "5tTs0W2zeO2c",
        "colab_type": "code",
        "colab": {
          "base_uri": "https://localhost:8080/",
          "height": 274
        },
        "outputId": "196b07c4-125b-4910-8a5e-d28e30a4dc06"
      },
      "source": [
        "values = met_art['Is Public Domain'].value_counts()[:5].values\n",
        "labels = met_art['Is Public Domain'].value_counts()[:5].index\n",
        "\n",
        "plot_pie_chart(values, labels, \"Artworks in Public Domain\")"
      ],
      "execution_count": 83,
      "outputs": [
        {
          "output_type": "display_data",
          "data": {
            "image/png": "[encoded data removed]",
            "text/plain": [
              "<Figure size 432x288 with 1 Axes>"
            ]
          },
          "metadata": {
            "tags": []
          }
        }
      ]
    },
    {
      "cell_type": "markdown",
      "metadata": {
        "id": "gm_6t1APfI5T",
        "colab_type": "text"
      },
      "source": [
        "### Top artworks media"
      ]
    },
    {
      "cell_type": "code",
      "metadata": {
        "id": "rZBf7wcnfYKY",
        "colab_type": "code",
        "colab": {
          "base_uri": "https://localhost:8080/",
          "height": 204
        },
        "outputId": "30f05d5e-daf4-4ab0-b4fd-1ffd3b2c6270"
      },
      "source": [
        "met_art['Medium'].value_counts()[:10]"
      ],
      "execution_count": 63,
      "outputs": [
        {
          "output_type": "execute_result",
          "data": {
            "text/plain": [
              "Commercial color lithograph    20209\n",
              "Etching                        15038\n",
              "Albumen photograph             10389\n",
              "Engraving                       9723\n",
              "Gelatin silver print            8961\n",
              "Silk                            8398\n",
              "Terracotta                      7299\n",
              "Bronze                          7265\n",
              "Glass                           6665\n",
              "Film negative                   6211\n",
              "Name: Medium, dtype: int64"
            ]
          },
          "metadata": {
            "tags": []
          },
          "execution_count": 63
        }
      ]
    },
    {
      "cell_type": "code",
      "metadata": {
        "id": "ikVmrsQVfkeO",
        "colab_type": "code",
        "colab": {
          "base_uri": "https://localhost:8080/",
          "height": 375
        },
        "outputId": "fcc9712d-16b2-434b-cb69-48330a7419eb"
      },
      "source": [
        "plot_bar_chart(met_art, column='Medium', title=\"Top 10 Artworks Media\")"
      ],
      "execution_count": 78,
      "outputs": [
        {
          "output_type": "display_data",
          "data": {
            "image/png": "[encoded data removed]",
            "text/plain": [
              "<Figure size 720x360 with 1 Axes>"
            ]
          },
          "metadata": {
            "tags": [],
            "needs_background": "light"
          }
        }
      ]
    },
    {
      "cell_type": "markdown",
      "metadata": {
        "id": "LmOwYPqpJm07",
        "colab_type": "text"
      },
      "source": [
        "### Artworks by department\n",
        "Let's visualize the artworks by department - looks like **Drawings and Prints** department has the largest art collection."
      ]
    },
    {
      "cell_type": "code",
      "metadata": {
        "id": "vCIJZm0DF7QS",
        "colab_type": "code",
        "colab": {
          "base_uri": "https://localhost:8080/",
          "height": 374
        },
        "outputId": "94ed4472-e40a-424a-9403-9467d6534497"
      },
      "source": [
        "met_art['Department'].value_counts()"
      ],
      "execution_count": 23,
      "outputs": [
        {
          "output_type": "execute_result",
          "data": {
            "text/plain": [
              "Drawings and Prints                          154445\n",
              "European Sculpture and Decorative Arts        42528\n",
              "Asian Art                                     36727\n",
              "Photographs                                   36258\n",
              "Costume Institute                             33681\n",
              "Egyptian Art                                  27542\n",
              "Greek and Roman Art                           17292\n",
              "Islamic Art                                   15082\n",
              "Modern and Contemporary Art                   13991\n",
              "Arms and Armor                                13486\n",
              "Arts of Africa, Oceania, and the Americas     12427\n",
              "American Decorative Arts                      12330\n",
              "Medieval Art                                   7343\n",
              "Ancient Near Eastern Art                       6185\n",
              "American Paintings and Sculpture               5451\n",
              "Musical Instruments                            5303\n",
              "European Paintings                             2760\n",
              "The Cloisters                                  2628\n",
              "Robert Lehman Collection                       2589\n",
              "The Libraries                                   155\n",
              "Name: Department, dtype: int64"
            ]
          },
          "metadata": {
            "tags": []
          },
          "execution_count": 23
        }
      ]
    },
    {
      "cell_type": "code",
      "metadata": {
        "id": "xEjLay53cKl2",
        "colab_type": "code",
        "colab": {
          "base_uri": "https://localhost:8080/",
          "height": 375
        },
        "outputId": "3507c49a-43ff-4be0-b4d2-fc9dbba7316f"
      },
      "source": [
        "plot_bar_chart(met_art, column='Department', title=\"Top 10 Departments with Largest Collections\")"
      ],
      "execution_count": 24,
      "outputs": [
        {
          "output_type": "display_data",
          "data": {
            "image/png": "[encoded data removed]",
            "text/plain": [
              "<Figure size 720x360 with 1 Axes>"
            ]
          },
          "metadata": {
            "tags": [],
            "needs_background": "light"
          }
        }
      ]
    },
    {
      "cell_type": "markdown",
      "metadata": {
        "id": "wRU_oRI4VETs",
        "colab_type": "text"
      },
      "source": [
        "### Top artworks classification\n",
        "The **Prints** classification has the largest number of artworks, twice as many as the 2nd largest classification of **Prints|Ephemera**.\n",
        "\n",
        "Note: if we were to use the images for classification then we need to figure out the overlap between **Prints**, **Prints|Ephemera** and Photographs|Ephemera."
      ]
    },
    {
      "cell_type": "code",
      "metadata": {
        "id": "D5LiXAkAdy8C",
        "colab_type": "code",
        "colab": {
          "base_uri": "https://localhost:8080/",
          "height": 204
        },
        "outputId": "ff12964c-fdf2-40e1-cffb-43e66b8c03dd"
      },
      "source": [
        "met_art['Classification'].value_counts()[:10]"
      ],
      "execution_count": null,
      "outputs": [
        {
          "output_type": "execute_result",
          "data": {
            "text/plain": [
              "Prints                  69260\n",
              "Prints|Ephemera         30033\n",
              "Photographs             26821\n",
              "Drawings                25230\n",
              "Books                   14685\n",
              "Ceramics                13332\n",
              "Paintings               11038\n",
              "Textiles-Woven          10995\n",
              "Photographs|Ephemera    10940\n",
              "Glass                    8838\n",
              "Name: Classification, dtype: int64"
            ]
          },
          "metadata": {
            "tags": []
          },
          "execution_count": 12
        }
      ]
    },
    {
      "cell_type": "code",
      "metadata": {
        "id": "_LqRsV_LZWZ_",
        "colab_type": "code",
        "colab": {
          "base_uri": "https://localhost:8080/",
          "height": 375
        },
        "outputId": "557b52c5-7963-4d21-afa1-5136494bd79e"
      },
      "source": [
        "plot_bar_chart(met_art, column='Classification', title=\"Artworks by Classification\")"
      ],
      "execution_count": 35,
      "outputs": [
        {
          "output_type": "display_data",
          "data": {
            "image/png": "[encoded data removed]",
            "text/plain": [
              "<Figure size 720x360 with 1 Axes>"
            ]
          },
          "metadata": {
            "tags": [],
            "needs_background": "light"
          }
        }
      ]
    },
    {
      "cell_type": "markdown",
      "metadata": {
        "id": "IrFsptywWCJX",
        "colab_type": "text"
      },
      "source": [
        "### Artworks by country and culture\n",
        "\n",
        "It's interesting to see that the artworks are mostly from Egypt although the top culture is American, which is consistent with the artist nationality above - 56.3% of artists are Americans."
      ]
    },
    {
      "cell_type": "code",
      "metadata": {
        "id": "yr16H475bDLC",
        "colab_type": "code",
        "colab": {
          "base_uri": "https://localhost:8080/",
          "height": 204
        },
        "outputId": "55f85889-1931-473b-86e2-248e3c4f7ed4"
      },
      "source": [
        "met_art['Country'].value_counts()[:10]"
      ],
      "execution_count": 77,
      "outputs": [
        {
          "output_type": "execute_result",
          "data": {
            "text/plain": [
              "Egypt              30914\n",
              "United States       8501\n",
              "Iran                5886\n",
              "Peru                3422\n",
              "Byzantine Egypt     1673\n",
              "France              1670\n",
              "Mexico              1537\n",
              "India               1440\n",
              "Indonesia           1394\n",
              "England             1059\n",
              "Name: Country, dtype: int64"
            ]
          },
          "metadata": {
            "tags": []
          },
          "execution_count": 77
        }
      ]
    },
    {
      "cell_type": "markdown",
      "metadata": {
        "id": "8fnZglrjdk_d",
        "colab_type": "text"
      },
      "source": [
        "Let's visualize the top 5 countries with the most collections. And 61.3% artworks are from Egypt."
      ]
    },
    {
      "cell_type": "code",
      "metadata": {
        "id": "APWo8hfAaL98",
        "colab_type": "code",
        "colab": {
          "base_uri": "https://localhost:8080/",
          "height": 274
        },
        "outputId": "ffbe6232-6920-44f5-840c-48c8f70bb668"
      },
      "source": [
        "values = met_art['Country'].value_counts()[:5].values\n",
        "labels = met_art['Country'].value_counts()[:5].index\n",
        "\n",
        "plot_pie_chart(values, labels, \"Top 5 Countries of Artworks\")"
      ],
      "execution_count": 84,
      "outputs": [
        {
          "output_type": "display_data",
          "data": {
            "image/png": "[encoded data removed]",
            "text/plain": [
              "<Figure size 432x288 with 1 Axes>"
            ]
          },
          "metadata": {
            "tags": []
          }
        }
      ]
    },
    {
      "cell_type": "markdown",
      "metadata": {
        "id": "6fNLMwElWKRu",
        "colab_type": "text"
      },
      "source": [
        ""
      ]
    },
    {
      "cell_type": "code",
      "metadata": {
        "id": "9MWbEIlsbu8D",
        "colab_type": "code",
        "colab": {
          "base_uri": "https://localhost:8080/",
          "height": 274
        },
        "outputId": "c4c3d478-2ef3-4f74-85f3-b3608b8d46b8"
      },
      "source": [
        "values = met_art['Culture'].value_counts()[:5].values\n",
        "labels = met_art['Culture'].value_counts()[:5].index\n",
        "\n",
        "plot_pie_chart(values, labels, \"Top 5 Culture of Artworks\")"
      ],
      "execution_count": 86,
      "outputs": [
        {
          "output_type": "display_data",
          "data": {
            "image/png": "[encoded data removed]",
            "text/plain": [
              "<Figure size 432x288 with 1 Axes>"
            ]
          },
          "metadata": {
            "tags": []
          }
        }
      ]
    },
    {
      "cell_type": "code",
      "metadata": {
        "id": "zzwQDsIE9_O6",
        "colab_type": "code",
        "colab": {}
      },
      "source": [
        ""
      ],
      "execution_count": null,
      "outputs": []
    }
  ]
}